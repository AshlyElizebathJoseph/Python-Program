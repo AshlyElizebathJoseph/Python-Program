{
 "cells": [
  {
   "cell_type": "code",
   "execution_count": 1,
   "id": "1eee1894",
   "metadata": {},
   "outputs": [
    {
     "name": "stdout",
     "output_type": "stream",
     "text": [
      "Pattern found at index 5\n"
     ]
    }
   ],
   "source": [
    "def compute_lps(pattern):\n",
    "    lps = [0] * len(pattern)\n",
    "    length = 0\n",
    "    i = 1\n",
    "    while i < len(pattern):\n",
    "        if pattern[i] == pattern[length]:\n",
    "            length += 1\n",
    "            lps[i] = length\n",
    "            i += 1\n",
    "        elif length != 0:\n",
    "            length = lps[length - 1]\n",
    "        else:\n",
    "            lps[i] = 0\n",
    "            i += 1\n",
    "    return lps\n",
    "\n",
    "def kmp_search(text, pattern):\n",
    "    lps = compute_lps(pattern)\n",
    "    i = j = 0\n",
    "    while i < len(text):\n",
    "        if pattern[j] == text[i]:\n",
    "            i += 1\n",
    "            j += 1\n",
    "        if j == len(pattern):\n",
    "            return i - j\n",
    "        elif i < len(text) and pattern[j] != text[i]:\n",
    "            if j != 0:\n",
    "                j = lps[j - 1]\n",
    "            else:\n",
    "                i += 1\n",
    "    return -1\n",
    "\n",
    "text = \"ABABDABACD\"\n",
    "pattern = \"ABAC\"\n",
    "index = kmp_search(text, pattern)\n",
    "if index != -1:\n",
    "    print(f\"Pattern found at index {index}\")\n",
    "else:\n",
    "    print(\"Pattern not found\")\n"
   ]
  },
  {
   "cell_type": "code",
   "execution_count": null,
   "id": "40557d9d",
   "metadata": {},
   "outputs": [],
   "source": []
  }
 ],
 "metadata": {
  "kernelspec": {
   "display_name": "Python 3 (ipykernel)",
   "language": "python",
   "name": "python3"
  },
  "language_info": {
   "codemirror_mode": {
    "name": "ipython",
    "version": 3
   },
   "file_extension": ".py",
   "mimetype": "text/x-python",
   "name": "python",
   "nbconvert_exporter": "python",
   "pygments_lexer": "ipython3",
   "version": "3.10.5"
  }
 },
 "nbformat": 4,
 "nbformat_minor": 5
}
