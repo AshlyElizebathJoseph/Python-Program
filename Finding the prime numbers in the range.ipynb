{
 "cells": [
  {
   "cell_type": "code",
   "execution_count": 7,
   "id": "0fa7d3f4",
   "metadata": {},
   "outputs": [
    {
     "name": "stdout",
     "output_type": "stream",
     "text": [
      "Enter the start of the range: 11\n",
      "Enter the end of the range: 20\n",
      "The prime numbers between 11 and 20 are [11, 13, 17, 19]\n",
      "The non-prime numbers between 11 and 20 are [12, 14, 15, 16, 18, 20]\n"
     ]
    }
   ],
   "source": [
    "def is_prime(num):\n",
    "    if num < 2:\n",
    "        return False\n",
    "    for i in range(2, int(num**0.5)+1):\n",
    "        if num % i == 0:\n",
    "            return False\n",
    "    return True\n",
    "    \n",
    "def prime_and_non_prime_num_range(start, end):\n",
    "    primes = []\n",
    "    non_primes = []\n",
    "    for n in range(start, end+1):\n",
    "        if is_prime(n):\n",
    "            primes.append(n)\n",
    "        else:\n",
    "            non_primes.append(n)\n",
    "    return primes, non_primes\n",
    "\n",
    "start = int(input(\"Enter the start of the range: \"))\n",
    "end = int(input(\"Enter the end of the range: \"))\n",
    "\n",
    "prime_num_result, non_prime_num_result = prime_and_non_prime_num_range(start, end)\n",
    "print(f\"The prime numbers between {start} and {end} are {prime_num_result}\")\n",
    "print(f\"The non-prime numbers between {start} and {end} are {non_prime_num_result}\")\n"
   ]
  },
  {
   "cell_type": "code",
   "execution_count": null,
   "id": "653d86b1",
   "metadata": {},
   "outputs": [],
   "source": []
  },
  {
   "cell_type": "code",
   "execution_count": null,
   "id": "926fec9c",
   "metadata": {},
   "outputs": [],
   "source": []
  }
 ],
 "metadata": {
  "kernelspec": {
   "display_name": "Python 3 (ipykernel)",
   "language": "python",
   "name": "python3"
  },
  "language_info": {
   "codemirror_mode": {
    "name": "ipython",
    "version": 3
   },
   "file_extension": ".py",
   "mimetype": "text/x-python",
   "name": "python",
   "nbconvert_exporter": "python",
   "pygments_lexer": "ipython3",
   "version": "3.10.5"
  }
 },
 "nbformat": 4,
 "nbformat_minor": 5
}
