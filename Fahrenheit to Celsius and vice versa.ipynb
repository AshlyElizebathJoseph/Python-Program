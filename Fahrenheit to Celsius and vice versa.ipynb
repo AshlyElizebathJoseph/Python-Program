{
 "cells": [
  {
   "cell_type": "code",
   "execution_count": 1,
   "id": "fd183125",
   "metadata": {},
   "outputs": [
    {
     "name": "stdout",
     "output_type": "stream",
     "text": [
      "Enter '1' to convert Fahrenheit to Celsius, '2' to convert Celsius to Fahrenheit: 1\n",
      "Enter temperature in Fahrenheit: 23\n",
      "23.0°F is equal to -5.00°C\n"
     ]
    }
   ],
   "source": [
    "def fahrenheit_to_celsius(fahrenheit):\n",
    "    return (fahrenheit - 32) * 5.0/9.0\n",
    "\n",
    "def celsius_to_fahrenheit(celsius):\n",
    "    return (celsius * 9.0/5.0) + 32\n",
    "\n",
    "choice = input(\"Enter '1' to convert Fahrenheit to Celsius, '2' to convert Celsius to Fahrenheit: \")\n",
    "\n",
    "if choice == '1':\n",
    "    fahrenheit = float(input(\"Enter temperature in Fahrenheit: \"))\n",
    "    celsius = fahrenheit_to_celsius(fahrenheit)\n",
    "    print(f\"{fahrenheit}°F is equal to {celsius:.2f}°C\")\n",
    "elif choice == '2':\n",
    "    celsius = float(input(\"Enter temperature in Celsius: \"))\n",
    "    fahrenheit = celsius_to_fahrenheit(celsius)\n",
    "    print(f\"{celsius}°C is equal to {fahrenheit:.2f}°F\")\n",
    "else:\n",
    "    print(\"Invalid choice\")"
   ]
  },
  {
   "cell_type": "code",
   "execution_count": null,
   "id": "98e7d17f",
   "metadata": {},
   "outputs": [],
   "source": []
  }
 ],
 "metadata": {
  "kernelspec": {
   "display_name": "Python 3 (ipykernel)",
   "language": "python",
   "name": "python3"
  },
  "language_info": {
   "codemirror_mode": {
    "name": "ipython",
    "version": 3
   },
   "file_extension": ".py",
   "mimetype": "text/x-python",
   "name": "python",
   "nbconvert_exporter": "python",
   "pygments_lexer": "ipython3",
   "version": "3.10.5"
  }
 },
 "nbformat": 4,
 "nbformat_minor": 5
}
