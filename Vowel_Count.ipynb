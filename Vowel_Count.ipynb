{
 "cells": [
  {
   "cell_type": "code",
   "execution_count": 1,
   "id": "e213aab8",
   "metadata": {},
   "outputs": [
    {
     "name": "stdout",
     "output_type": "stream",
     "text": [
      "Enter a string: The world is great\n",
      "The number of vowels in the string is: 5\n",
      "The number of consonants in the string is: 10\n"
     ]
    }
   ],
   "source": [
    "def count_vowels_and_consonants(text):\n",
    "    vowels = 0\n",
    "    consonants = 0\n",
    "    for char in text:\n",
    "        if char.lower() in 'aeiou':\n",
    "            vowels += 1\n",
    "        elif char.isalpha():\n",
    "            consonants += 1\n",
    "    return vowels, consonants\n",
    "\n",
    "input_text = input(\"Enter a string: \")\n",
    "\n",
    "vowel_count, consonant_count = count_vowels_and_consonants(input_text)\n",
    "print(f\"The number of vowels in the string is: {vowel_count}\")\n",
    "print(f\"The number of consonants in the string is: {consonant_count}\")\n"
   ]
  },
  {
   "cell_type": "code",
   "execution_count": null,
   "id": "00a0b5ee",
   "metadata": {},
   "outputs": [],
   "source": []
  }
 ],
 "metadata": {
  "kernelspec": {
   "display_name": "Python 3 (ipykernel)",
   "language": "python",
   "name": "python3"
  },
  "language_info": {
   "codemirror_mode": {
    "name": "ipython",
    "version": 3
   },
   "file_extension": ".py",
   "mimetype": "text/x-python",
   "name": "python",
   "nbconvert_exporter": "python",
   "pygments_lexer": "ipython3",
   "version": "3.10.5"
  }
 },
 "nbformat": 4,
 "nbformat_minor": 5
}
