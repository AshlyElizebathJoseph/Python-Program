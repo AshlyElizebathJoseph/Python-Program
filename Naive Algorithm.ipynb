{
 "cells": [
  {
   "cell_type": "code",
   "execution_count": 2,
   "id": "48d59fa6",
   "metadata": {},
   "outputs": [
    {
     "name": "stdout",
     "output_type": "stream",
     "text": [
      "Pattern found at index 8\n"
     ]
    }
   ],
   "source": [
    "def naive_search(text, pattern):\n",
    "  for i in range(len(text) - len(pattern) + 1):\n",
    "    match = True\n",
    "    for j in range(len(pattern)):\n",
    "      if text[i + j] != pattern[j]:\n",
    "        match = False\n",
    "        break\n",
    "    if match:\n",
    "      return i\n",
    "  return -1\n",
    "\n",
    "text = \"ABABDACDABACDCA\"\n",
    "pattern = \"ABAC\"\n",
    "index = naive_search(text, pattern)\n",
    "if index != -1:\n",
    "  print(f\"Pattern found at index {index}\")\n",
    "else:\n",
    "  print(\"Pattern not found\")\n"
   ]
  },
  {
   "cell_type": "code",
   "execution_count": null,
   "id": "ccd68c6b",
   "metadata": {},
   "outputs": [],
   "source": []
  }
 ],
 "metadata": {
  "kernelspec": {
   "display_name": "Python 3 (ipykernel)",
   "language": "python",
   "name": "python3"
  },
  "language_info": {
   "codemirror_mode": {
    "name": "ipython",
    "version": 3
   },
   "file_extension": ".py",
   "mimetype": "text/x-python",
   "name": "python",
   "nbconvert_exporter": "python",
   "pygments_lexer": "ipython3",
   "version": "3.10.5"
  }
 },
 "nbformat": 4,
 "nbformat_minor": 5
}
